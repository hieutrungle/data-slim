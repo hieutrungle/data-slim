{
  "cells": [
    {
      "cell_type": "markdown",
      "metadata": {
        "id": "view-in-github",
        "colab_type": "text"
      },
      "source": [
        "<a href=\"https://colab.research.google.com/github/hieutrungle/data-slim/blob/main/examples/vision/ipynb/image_classification_from_scratch.ipynb\" target=\"_parent\"><img src=\"https://colab.research.google.com/assets/colab-badge.svg\" alt=\"Open In Colab\"/></a>"
      ]
    },
    {
      "cell_type": "markdown",
      "metadata": {
        "id": "yYMEi8Ad_K6R"
      },
      "source": [
        "# Image classification from scratch\n",
        "\n",
        "**Author:** [fchollet](https://twitter.com/fchollet)<br>\n",
        "**Date created:** 2020/04/27<br>\n",
        "**Last modified:** 2022/11/10<br>\n",
        "**Description:** Training an image classifier from scratch on the Kaggle Cats vs Dogs dataset."
      ]
    },
    {
      "cell_type": "markdown",
      "metadata": {
        "id": "-VxRZaCz_K6S"
      },
      "source": [
        "## Introduction\n",
        "\n",
        "This example shows how to do image classification from scratch, starting from JPEG\n",
        "image files on disk, without leveraging pre-trained weights or a pre-made Keras\n",
        "Application model. We demonstrate the workflow on the Kaggle Cats vs Dogs binary\n",
        " classification dataset.\n",
        "\n",
        "We use the `image_dataset_from_directory` utility to generate the datasets, and\n",
        "we use Keras image preprocessing layers for image standardization and data augmentation."
      ]
    },
    {
      "cell_type": "markdown",
      "metadata": {
        "id": "-oP5InD3_K6S"
      },
      "source": [
        "## Setup"
      ]
    },
    {
      "cell_type": "code",
      "execution_count": null,
      "metadata": {
        "id": "WWxDA4a8_K6T"
      },
      "outputs": [],
      "source": [
        "import tensorflow as tf\n",
        "from tensorflow import keras\n",
        "from tensorflow.keras import layers"
      ]
    },
    {
      "cell_type": "markdown",
      "metadata": {
        "id": "n20ebLVj_K6T"
      },
      "source": [
        "## Load the data: the Cats vs Dogs dataset\n",
        "\n",
        "### Raw data download\n",
        "\n",
        "First, let's download the 786M ZIP archive of the raw data:"
      ]
    },
    {
      "cell_type": "code",
      "execution_count": null,
      "metadata": {
        "id": "Z1KC0M2__K6U"
      },
      "outputs": [],
      "source": [
        "!curl -O https://download.microsoft.com/download/3/E/1/3E1C3F21-ECDB-4869-8368-6DEBA77B919F/kagglecatsanddogs_5340.zip"
      ]
    },
    {
      "cell_type": "code",
      "execution_count": null,
      "metadata": {
        "id": "O8pmnvt6_K6U"
      },
      "outputs": [],
      "source": [
        "!unzip -q kagglecatsanddogs_5340.zip\n",
        "!ls"
      ]
    },
    {
      "cell_type": "markdown",
      "metadata": {
        "id": "QEwbSIoa_K6U"
      },
      "source": [
        "Now we have a `PetImages` folder which contain two subfolders, `Cat` and `Dog`. Each\n",
        " subfolder contains image files for each category."
      ]
    },
    {
      "cell_type": "code",
      "execution_count": null,
      "metadata": {
        "id": "S1Mn4raO_K6U"
      },
      "outputs": [],
      "source": [
        "!ls PetImages"
      ]
    },
    {
      "cell_type": "markdown",
      "metadata": {
        "id": "7G3zFGXT_K6U"
      },
      "source": [
        "### Filter out corrupted images\n",
        "\n",
        "When working with lots of real-world image data, corrupted images are a common\n",
        "occurence. Let's filter out badly-encoded images that do not feature the string \"JFIF\"\n",
        "in their header."
      ]
    },
    {
      "cell_type": "code",
      "execution_count": null,
      "metadata": {
        "id": "Mwrsm8Wu_K6V"
      },
      "outputs": [],
      "source": [
        "import os\n",
        "\n",
        "num_skipped = 0\n",
        "for folder_name in (\"Cat\", \"Dog\"):\n",
        "    folder_path = os.path.join(\"PetImages\", folder_name)\n",
        "    for fname in os.listdir(folder_path):\n",
        "        fpath = os.path.join(folder_path, fname)\n",
        "        try:\n",
        "            fobj = open(fpath, \"rb\")\n",
        "            is_jfif = tf.compat.as_bytes(\"JFIF\") in fobj.peek(10)\n",
        "        finally:\n",
        "            fobj.close()\n",
        "\n",
        "        if not is_jfif:\n",
        "            num_skipped += 1\n",
        "            # Delete corrupted image\n",
        "            os.remove(fpath)\n",
        "\n",
        "print(\"Deleted %d images\" % num_skipped)"
      ]
    },
    {
      "cell_type": "markdown",
      "metadata": {
        "id": "wWXiwKln_K6V"
      },
      "source": [
        "## Generate a `Dataset`"
      ]
    },
    {
      "cell_type": "code",
      "execution_count": null,
      "metadata": {
        "id": "9mDSdJPf_K6V"
      },
      "outputs": [],
      "source": [
        "image_size = (180, 180)\n",
        "batch_size = 128\n",
        "\n",
        "train_ds, val_ds = tf.keras.utils.image_dataset_from_directory(\n",
        "    \"PetImages\",\n",
        "    validation_split=0.2,\n",
        "    subset=\"both\",\n",
        "    seed=1337,\n",
        "    image_size=image_size,\n",
        "    batch_size=batch_size,\n",
        ")"
      ]
    },
    {
      "cell_type": "markdown",
      "metadata": {
        "id": "lz6INezB_K6V"
      },
      "source": [
        "## Visualize the data\n",
        "\n",
        "Here are the first 9 images in the training dataset. As you can see, label 1 is \"dog\"\n",
        "and label 0 is \"cat\"."
      ]
    },
    {
      "cell_type": "code",
      "execution_count": null,
      "metadata": {
        "id": "8UhBPaF4_K6W"
      },
      "outputs": [],
      "source": [
        "import matplotlib.pyplot as plt\n",
        "\n",
        "plt.figure(figsize=(10, 10))\n",
        "for images, labels in train_ds.take(1):\n",
        "    for i in range(9):\n",
        "        ax = plt.subplot(3, 3, i + 1)\n",
        "        plt.imshow(images[i].numpy().astype(\"uint8\"))\n",
        "        plt.title(int(labels[i]))\n",
        "        plt.axis(\"off\")"
      ]
    },
    {
      "cell_type": "markdown",
      "metadata": {
        "id": "v981KH7u_K6W"
      },
      "source": [
        "## Using image data augmentation\n",
        "\n",
        "When you don't have a large image dataset, it's a good practice to artificially\n",
        "introduce sample diversity by applying random yet realistic transformations to the\n",
        "training images, such as random horizontal flipping or small random rotations. This\n",
        "helps expose the model to different aspects of the training data while slowing down\n",
        "overfitting."
      ]
    },
    {
      "cell_type": "code",
      "execution_count": null,
      "metadata": {
        "id": "bvQEO8wZ_K6W"
      },
      "outputs": [],
      "source": [
        "data_augmentation = keras.Sequential(\n",
        "    [\n",
        "        layers.RandomFlip(\"horizontal\"),\n",
        "        layers.RandomRotation(0.1),\n",
        "    ]\n",
        ")"
      ]
    },
    {
      "cell_type": "markdown",
      "metadata": {
        "id": "20w3Rkn4_K6W"
      },
      "source": [
        "Let's visualize what the augmented samples look like, by applying `data_augmentation`\n",
        "repeatedly to the first image in the dataset:"
      ]
    },
    {
      "cell_type": "code",
      "execution_count": null,
      "metadata": {
        "id": "OGgV9PSk_K6W"
      },
      "outputs": [],
      "source": [
        "plt.figure(figsize=(10, 10))\n",
        "for images, _ in train_ds.take(1):\n",
        "    for i in range(9):\n",
        "        augmented_images = data_augmentation(images)\n",
        "        ax = plt.subplot(3, 3, i + 1)\n",
        "        plt.imshow(augmented_images[0].numpy().astype(\"uint8\"))\n",
        "        plt.axis(\"off\")"
      ]
    },
    {
      "cell_type": "markdown",
      "metadata": {
        "id": "qMXtTKJO_K6X"
      },
      "source": [
        "## Standardizing the data\n",
        "\n",
        "Our image are already in a standard size (180x180), as they are being yielded as\n",
        "contiguous `float32` batches by our dataset. However, their RGB channel values are in\n",
        "the `[0, 255]` range. This is not ideal for a neural network;\n",
        "in general you should seek to make your input values small. Here, we will\n",
        "standardize values to be in the `[0, 1]` by using a `Rescaling` layer at the start of\n",
        "our model."
      ]
    },
    {
      "cell_type": "markdown",
      "metadata": {
        "id": "thSZVNaX_K6X"
      },
      "source": [
        "## Two options to preprocess the data\n",
        "\n",
        "There are two ways you could be using the `data_augmentation` preprocessor:\n",
        "\n",
        "**Option 1: Make it part of the model**, like this:\n",
        "\n",
        "```python\n",
        "inputs = keras.Input(shape=input_shape)\n",
        "x = data_augmentation(inputs)\n",
        "x = layers.Rescaling(1./255)(x)\n",
        "...  # Rest of the model\n",
        "```\n",
        "\n",
        "With this option, your data augmentation will happen *on device*, synchronously\n",
        "with the rest of the model execution, meaning that it will benefit from GPU\n",
        "acceleration.\n",
        "\n",
        "Note that data augmentation is inactive at test time, so the input samples will only be\n",
        "augmented during `fit()`, not when calling `evaluate()` or `predict()`.\n",
        "\n",
        "If you're training on GPU, this may be a good option.\n",
        "\n",
        "**Option 2: apply it to the dataset**, so as to obtain a dataset that yields batches of\n",
        "augmented images, like this:\n",
        "\n",
        "```python\n",
        "augmented_train_ds = train_ds.map(\n",
        "    lambda x, y: (data_augmentation(x, training=True), y))\n",
        "```\n",
        "\n",
        "With this option, your data augmentation will happen **on CPU**, asynchronously, and will\n",
        "be buffered before going into the model.\n",
        "\n",
        "If you're training on CPU, this is the better option, since it makes data augmentation\n",
        "asynchronous and non-blocking.\n",
        "\n",
        "In our case, we'll go with the second option. If you're not sure\n",
        "which one to pick, this second option (asynchronous preprocessing) is always a solid choice."
      ]
    },
    {
      "cell_type": "markdown",
      "metadata": {
        "id": "u8wrRCGo_K6X"
      },
      "source": [
        "## Configure the dataset for performance\n",
        "\n",
        "Let's apply data augmentation to our training dataset,\n",
        "and let's make sure to use buffered prefetching so we can yield data from disk without\n",
        "having I/O becoming blocking:"
      ]
    },
    {
      "cell_type": "code",
      "execution_count": null,
      "metadata": {
        "id": "K6Lteqm8_K6X"
      },
      "outputs": [],
      "source": [
        "# Apply `data_augmentation` to the training images.\n",
        "train_ds = train_ds.map(\n",
        "    lambda img, label: (data_augmentation(img), label),\n",
        "    num_parallel_calls=tf.data.AUTOTUNE,\n",
        ")\n",
        "# Prefetching samples in GPU memory helps maximize GPU utilization.\n",
        "train_ds = train_ds.prefetch(tf.data.AUTOTUNE)\n",
        "val_ds = val_ds.prefetch(tf.data.AUTOTUNE)"
      ]
    },
    {
      "cell_type": "markdown",
      "metadata": {
        "id": "k8t1lHYy_K6X"
      },
      "source": [
        "## Build a model\n",
        "\n",
        "We'll build a small version of the Xception network. We haven't particularly tried to\n",
        "optimize the architecture; if you want to do a systematic search for the best model\n",
        "configuration, consider using\n",
        "[KerasTuner](https://github.com/keras-team/keras-tuner).\n",
        "\n",
        "Note that:\n",
        "\n",
        "- We start the model with the `data_augmentation` preprocessor, followed by a\n",
        " `Rescaling` layer.\n",
        "- We include a `Dropout` layer before the final classification layer."
      ]
    },
    {
      "cell_type": "code",
      "execution_count": null,
      "metadata": {
        "id": "WynO96jm_K6X"
      },
      "outputs": [],
      "source": [
        "\n",
        "def make_model(input_shape, num_classes):\n",
        "    inputs = keras.Input(shape=input_shape)\n",
        "\n",
        "    # Entry block\n",
        "    x = layers.Rescaling(1.0 / 255)(inputs)\n",
        "    x = layers.Conv2D(128, 3, strides=2, padding=\"same\")(x)\n",
        "    x = layers.BatchNormalization()(x)\n",
        "    x = layers.Activation(\"relu\")(x)\n",
        "\n",
        "    previous_block_activation = x  # Set aside residual\n",
        "\n",
        "    for size in [256, 512, 728]:\n",
        "        x = layers.Activation(\"relu\")(x)\n",
        "        x = layers.SeparableConv2D(size, 3, padding=\"same\")(x)\n",
        "        x = layers.BatchNormalization()(x)\n",
        "\n",
        "        x = layers.Activation(\"relu\")(x)\n",
        "        x = layers.SeparableConv2D(size, 3, padding=\"same\")(x)\n",
        "        x = layers.BatchNormalization()(x)\n",
        "\n",
        "        x = layers.MaxPooling2D(3, strides=2, padding=\"same\")(x)\n",
        "\n",
        "        # Project residual\n",
        "        residual = layers.Conv2D(size, 1, strides=2, padding=\"same\")(\n",
        "            previous_block_activation\n",
        "        )\n",
        "        x = layers.add([x, residual])  # Add back residual\n",
        "        previous_block_activation = x  # Set aside next residual\n",
        "\n",
        "    x = layers.SeparableConv2D(1024, 3, padding=\"same\")(x)\n",
        "    x = layers.BatchNormalization()(x)\n",
        "    x = layers.Activation(\"relu\")(x)\n",
        "\n",
        "    x = layers.GlobalAveragePooling2D()(x)\n",
        "    if num_classes == 2:\n",
        "        activation = \"sigmoid\"\n",
        "        units = 1\n",
        "    else:\n",
        "        activation = \"softmax\"\n",
        "        units = num_classes\n",
        "\n",
        "    x = layers.Dropout(0.5)(x)\n",
        "    outputs = layers.Dense(units, activation=activation)(x)\n",
        "    return keras.Model(inputs, outputs)\n",
        "\n",
        "\n",
        "model = make_model(input_shape=image_size + (3,), num_classes=2)\n",
        "keras.utils.plot_model(model, show_shapes=True)"
      ]
    },
    {
      "cell_type": "markdown",
      "metadata": {
        "id": "2BLVlM-c_K6Y"
      },
      "source": [
        "## Train the model"
      ]
    },
    {
      "cell_type": "code",
      "execution_count": null,
      "metadata": {
        "id": "BBnH1E-J_K6Y"
      },
      "outputs": [],
      "source": [
        "epochs = 25\n",
        "\n",
        "callbacks = [\n",
        "    keras.callbacks.ModelCheckpoint(\"save_at_{epoch}.keras\"),\n",
        "]\n",
        "model.compile(\n",
        "    optimizer=keras.optimizers.Adam(1e-3),\n",
        "    loss=\"binary_crossentropy\",\n",
        "    metrics=[\"accuracy\"],\n",
        ")\n",
        "model.fit(\n",
        "    train_ds,\n",
        "    epochs=epochs,\n",
        "    callbacks=callbacks,\n",
        "    validation_data=val_ds,\n",
        ")"
      ]
    },
    {
      "cell_type": "markdown",
      "metadata": {
        "id": "oiUow1Zy_K6Y"
      },
      "source": [
        "We get to >90% validation accuracy after training for 25 epochs on the full dataset\n",
        "(in practice, you can train for 50+ epochs before validation performance starts degrading)."
      ]
    },
    {
      "cell_type": "markdown",
      "metadata": {
        "id": "qsB3waOJ_K6Y"
      },
      "source": [
        "## Run inference on new data\n",
        "\n",
        "Note that data augmentation and dropout are inactive at inference time."
      ]
    },
    {
      "cell_type": "code",
      "execution_count": null,
      "metadata": {
        "id": "CgzMALfq_K6Y"
      },
      "outputs": [],
      "source": [
        "img = keras.utils.load_img(\n",
        "    \"PetImages/Cat/6779.jpg\", target_size=image_size\n",
        ")\n",
        "img_array = keras.utils.img_to_array(img)\n",
        "img_array = tf.expand_dims(img_array, 0)  # Create batch axis\n",
        "\n",
        "predictions = model.predict(img_array)\n",
        "score = float(predictions[0])\n",
        "print(f\"This image is {100 * (1 - score):.2f}% cat and {100 * score:.2f}% dog.\")"
      ]
    }
  ],
  "metadata": {
    "accelerator": "GPU",
    "colab": {
      "name": "image_classification_from_scratch",
      "provenance": [],
      "toc_visible": true,
      "include_colab_link": true
    },
    "kernelspec": {
      "display_name": "Python 3",
      "language": "python",
      "name": "python3"
    },
    "language_info": {
      "codemirror_mode": {
        "name": "ipython",
        "version": 3
      },
      "file_extension": ".py",
      "mimetype": "text/x-python",
      "name": "python",
      "nbconvert_exporter": "python",
      "pygments_lexer": "ipython3",
      "version": "3.7.0"
    }
  },
  "nbformat": 4,
  "nbformat_minor": 0
}